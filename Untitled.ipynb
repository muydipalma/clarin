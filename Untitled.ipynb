{
 "cells": [
  {
   "cell_type": "code",
   "execution_count": 1,
   "metadata": {},
   "outputs": [],
   "source": [
    "import requests as r\n",
    "from bs4 import BeautifulSoup as bs\n",
    "import urllib\n",
    "import json\n",
    "import time\n",
    "import sqlite3 as sql\n",
    "import pandas as pd"
   ]
  },
  {
   "cell_type": "code",
   "execution_count": 19,
   "metadata": {},
   "outputs": [],
   "source": [
    "uri='https://www.pagina12.com.ar'"
   ]
  },
  {
   "cell_type": "markdown",
   "metadata": {},
   "source": [
    "url_i='https://www.pagina12.com.ar/diario/secciones/index-2010-10-01.html'\n",
    "\n",
    "url_f='https://www.pagina12.com.ar/diario/secciones/index-2016-11-14.html'"
   ]
  },
  {
   "cell_type": "code",
   "execution_count": 8,
   "metadata": {},
   "outputs": [],
   "source": [
    "url1='https://www.pagina12.com.ar/diario/secciones/index-2010-10-01.html'\n",
    "url2='https://www.pagina12.com.ar/diario/secciones/index-2016-11-14.html'"
   ]
  },
  {
   "cell_type": "code",
   "execution_count": 21,
   "metadata": {},
   "outputs": [],
   "source": [
    "req=r.get(url2)\n",
    "sopa=bs(req.content)"
   ]
  },
  {
   "cell_type": "code",
   "execution_count": 14,
   "metadata": {
    "scrolled": true
   },
   "outputs": [
    {
     "data": {
      "text/plain": [
       "<li>\n",
       "<p class=\"volanta\">TODO EL ARCO OPOSITOR Y LOS MOVIMIENTOS SOCIALES Y DE DERECHOS HUMANOS EN APOYO A CORREA</p> <h2><a href=\"/diario/elpais/1-154159-2010-10-01.html\">Rechazo unánime a la intentona golpista</a></h2>\n",
       "</li>"
      ]
     },
     "execution_count": 14,
     "metadata": {},
     "output_type": "execute_result"
    }
   ],
   "source": [
    "sopa.find('div',{'class':\"columna476 left12\"}).find_all('li')[0]"
   ]
  },
  {
   "cell_type": "code",
   "execution_count": 23,
   "metadata": {},
   "outputs": [],
   "source": [
    "urls=[]\n",
    "for x in sopa.find('div',{'class':\"columna476 left12\"}).find_all('li'):\n",
    "    urls.append(uri+x.find('a').get('href'))"
   ]
  },
  {
   "cell_type": "code",
   "execution_count": 25,
   "metadata": {
    "scrolled": false
   },
   "outputs": [
    {
     "name": "stdout",
     "output_type": "stream",
     "text": [
      "https://www.pagina12.com.ar/diario/elpais/1-314131-2016-11-14.html\n",
      "https://www.pagina12.com.ar/diario/elpais/1-314132-2016-11-14.html\n",
      "https://www.pagina12.com.ar/diario/elpais/1-314133-2016-11-14.html\n",
      "https://www.pagina12.com.ar/diario/elpais/1-314141-2016-11-14.html\n",
      "https://www.pagina12.com.ar/diario/elpais/1-314142-2016-11-14.html\n",
      "https://www.pagina12.com.ar/diario/elpais/1-314143-2016-11-14.html\n",
      "https://www.pagina12.com.ar/diario/elpais/1-314150-2016-11-14.html\n",
      "https://www.pagina12.com.ar/diario/elpais/1-314151-2016-11-14.html\n",
      "https://www.pagina12.com.ar/diario/elpais/1-314134-2016-11-14.html\n",
      "https://www.pagina12.com.ar/diario/elpais/1-314135-2016-11-14.html\n",
      "https://www.pagina12.com.ar/diario/elpais/1-314136-2016-11-14.html\n",
      "https://www.pagina12.com.ar/diario/elpais/1-314137-2016-11-14.html\n",
      "https://www.pagina12.com.ar/diario/elpais/1-314152-2016-11-14.html\n",
      "https://www.pagina12.com.ar/diario/elpais/1-314153-2016-11-14.html\n",
      "https://www.pagina12.com.ar/diario/elpais/1-314154-2016-11-14.html\n",
      "https://www.pagina12.com.ar/diario/economia/2-314138-2016-11-14.html\n",
      "https://www.pagina12.com.ar/diario/economia/2-314144-2016-11-14.html\n",
      "https://www.pagina12.com.ar/diario/economia/2-314145-2016-11-14.html\n",
      "https://www.pagina12.com.ar/diario/economia/2-314146-2016-11-14.html\n",
      "https://www.pagina12.com.ar/diario/sociedad/3-314147-2016-11-14.html\n",
      "https://www.pagina12.com.ar/diario/sociedad/3-314155-2016-11-14.html\n",
      "https://www.pagina12.com.ar/diario/sociedad/3-314156-2016-11-14.html\n",
      "https://www.pagina12.com.ar/diario/sociedad/3-314157-2016-11-14.html\n",
      "https://www.pagina12.com.ar/diario/sociedad/3-314148-2016-11-14.html\n",
      "https://www.pagina12.com.ar/diario/sociedad/3-314149-2016-11-14.html\n",
      "https://www.pagina12.com.ar/diario/laventana/26-313770-2016-11-14.html\n",
      "https://www.pagina12.com.ar/diario/laventana/26-313771-2016-11-14.html\n",
      "https://www.pagina12.com.ar/diario/suplementos/espectaculos/4-40554-2016-11-14.html\n",
      "https://www.pagina12.com.ar/diario/suplementos/espectaculos/23-40560-2016-11-14.html\n",
      "https://www.pagina12.com.ar/diario/suplementos/espectaculos/23-40561-2016-11-14.html\n",
      "https://www.pagina12.com.ar/diario/suplementos/espectaculos/23-40558-2016-11-14.html\n",
      "https://www.pagina12.com.ar/diario/suplementos/espectaculos/23-40559-2016-11-14.html\n",
      "https://www.pagina12.com.ar/diario/suplementos/espectaculos/3-40562-2016-11-14.html\n",
      "https://www.pagina12.com.ar/diario/suplementos/espectaculos/3-40563-2016-11-14.html\n",
      "https://www.pagina12.com.ar/diario/suplementos/espectaculos/3-40564-2016-11-14.html\n",
      "https://www.pagina12.com.ar/diario/suplementos/espectaculos/2-40555-2016-11-14.html\n",
      "https://www.pagina12.com.ar/diario/suplementos/espectaculos/2-40556-2016-11-14.html\n",
      "https://www.pagina12.com.ar/diario/suplementos/espectaculos/2-40557-2016-11-14.html\n",
      "https://www.pagina12.com.ar/diario/suplementos/espectaculos/15-40553-2016-11-14.html\n",
      "https://www.pagina12.com.ar/diario/elmundo/4-314130-2016-11-14.html\n",
      "https://www.pagina12.com.ar/diario/elmundo/4-314139-2016-11-14.html\n",
      "https://www.pagina12.com.ar/diario/elmundo/4-314140-2016-11-14.html\n",
      "https://www.pagina12.com.ar/diario/elmundo/4-314158-2016-11-14.html\n",
      "https://www.pagina12.com.ar/diario/elmundo/4-314159-2016-11-14.html\n",
      "https://www.pagina12.com.ar/diario/elmundo/4-314160-2016-11-14.html\n",
      "https://www.pagina12.com.ar/diario/elmundo/4-314161-2016-11-14.html\n",
      "https://www.pagina12.com.ar/diario/psicologia/9-313872-2016-11-14.html\n",
      "https://www.pagina12.com.ar/diario/psicologia/9-313873-2016-11-14.html\n",
      "https://www.pagina12.com.ar/diario/psicologia/9-313874-2016-11-14.html\n",
      "https://www.pagina12.com.ar/diario/universidad/10-313961-2016-11-14.html\n",
      "https://www.pagina12.com.ar/diario/universidad/10-313962-2016-11-14.html\n",
      "https://www.pagina12.com.ar/diario/universidad/10-313963-2016-11-14.html\n",
      "https://www.pagina12.com.ar/diario/universidad/10-313688-2016-11-14.html\n",
      "https://www.pagina12.com.ar/diario/universidad/10-313683-2016-11-14.html\n",
      "https://www.pagina12.com.ar/diario/universidad/10-313684-2016-11-14.html\n",
      "https://www.pagina12.com.ar/diario/universidad/10-313685-2016-11-14.html\n",
      "https://www.pagina12.com.ar/diario/universidad/10-313686-2016-11-14.html\n",
      "https://www.pagina12.com.ar/diario/universidad/10-313687-2016-11-14.html\n",
      "https://www.pagina12.com.ar/diario/contratapa/13-314163-2016-11-14.html\n",
      "https://www.pagina12.com.ar/diario/pirulo/30-314162-2016-11-14.html\n"
     ]
    }
   ],
   "source": [
    "urls=[]\n",
    "for x in sopa.find('div',{'class':\"columna476 left12\"}).find_all('li'):\n",
    "    print(uri+x.find('a').get('href'))"
   ]
  },
  {
   "cell_type": "code",
   "execution_count": 57,
   "metadata": {},
   "outputs": [
    {
     "name": "stdout",
     "output_type": "stream",
     "text": [
      "0\n",
      "1\n",
      "2\n",
      "3\n",
      "4\n",
      "5\n",
      "6\n",
      "7\n",
      "8\n",
      "9\n",
      "10\n",
      "11\n",
      "12\n"
     ]
    }
   ],
   "source": [
    "for x in range(13):\n",
    "    print(x)"
   ]
  },
  {
   "cell_type": "code",
   "execution_count": 58,
   "metadata": {},
   "outputs": [],
   "source": [
    "urls=[]\n",
    "for y in range(13):\n",
    "    for x in range(32):\n",
    "        try:\n",
    "            url='https://www.pagina12.com.ar/diario/secciones/index-2010-'+str(y)+'-'+str(x)+'.html'\n",
    "            req=r.get(url)\n",
    "            sopa=bs(req.content)\n",
    "            for x in sopa.find('div',{'class':\"columna476 left12\"}).find_all('li'):\n",
    "                urls.append(uri+x.find('a').get('href'))\n",
    "        except:\n",
    "            pass\n",
    "        time.sleep(0.5)\n",
    "    time.sleep(1)   "
   ]
  },
  {
   "cell_type": "code",
   "execution_count": 31,
   "metadata": {
    "scrolled": true
   },
   "outputs": [
    {
     "data": {
      "text/plain": [
       "21351"
      ]
     },
     "execution_count": 31,
     "metadata": {},
     "output_type": "execute_result"
    }
   ],
   "source": [
    "len(urls)"
   ]
  },
  {
   "cell_type": "code",
   "execution_count": 33,
   "metadata": {},
   "outputs": [],
   "source": [
    "p12_2010=pd.DataFrame(urls,columns=['urls'])"
   ]
  },
  {
   "cell_type": "code",
   "execution_count": 34,
   "metadata": {},
   "outputs": [],
   "source": [
    "p12_2010.to_csv('p12_2010.csv')"
   ]
  },
  {
   "cell_type": "code",
   "execution_count": 45,
   "metadata": {},
   "outputs": [],
   "source": [
    "from nscrapy.p12.p12 import p12"
   ]
  },
  {
   "cell_type": "code",
   "execution_count": 41,
   "metadata": {},
   "outputs": [
    {
     "name": "stdout",
     "output_type": "stream",
     "text": [
      "https://www.pagina12.com.ar/diario/laventana/26-137804-2010-01-01.html\n",
      "https://www.pagina12.com.ar/diario/laventana/26-137805-2010-01-01.html\n",
      "https://www.pagina12.com.ar/diario/psicologia/9-137843-2010-01-01.html\n",
      "https://www.pagina12.com.ar/diario/psicologia/9-137844-2010-01-01.html\n",
      "https://www.pagina12.com.ar/diario/elpais/1-137935-2010-01-02.html\n",
      "https://www.pagina12.com.ar/diario/elpais/1-137910-2010-01-02.html\n",
      "https://www.pagina12.com.ar/diario/elpais/1-137911-2010-01-02.html\n",
      "https://www.pagina12.com.ar/diario/elpais/1-137912-2010-01-02.html\n",
      "https://www.pagina12.com.ar/diario/elpais/1-137913-2010-01-02.html\n",
      "https://www.pagina12.com.ar/diario/elpais/1-137914-2010-01-02.html\n"
     ]
    }
   ],
   "source": [
    "a=get(urls[:10])"
   ]
  },
  {
   "cell_type": "code",
   "execution_count": 46,
   "metadata": {},
   "outputs": [],
   "source": [
    "a=p12()"
   ]
  },
  {
   "cell_type": "code",
   "execution_count": 53,
   "metadata": {},
   "outputs": [
    {
     "name": "stdout",
     "output_type": "stream",
     "text": [
      "https://www.pagina12.com.ar/diario/laventana/26-137804-2010-01-01.html\n"
     ]
    }
   ],
   "source": [
    "print(urls[0])"
   ]
  },
  {
   "cell_type": "code",
   "execution_count": 52,
   "metadata": {},
   "outputs": [
    {
     "name": "stdout",
     "output_type": "stream",
     "text": [
      "https://www.pagina12.com.ar/diario/contratapa/13-157782-2010-11-30.html\n"
     ]
    }
   ],
   "source": [
    "print(urls[-1])"
   ]
  },
  {
   "cell_type": "code",
   "execution_count": 92,
   "metadata": {},
   "outputs": [],
   "source": [
    "class p12():\n",
    "    \n",
    "    def __init__(self):\n",
    "        self.url='https://www.pagina12.com.ar'\n",
    "    \n",
    "    def get(self,url):\n",
    "        nota=r.get(url)\n",
    "        sopa=bs(nota.content,features=\"lxml\")\n",
    "        self.volanta=sopa.find('p',{'class':'volanta'}).get_text(strip=True)\n",
    "        self.titulo=sopa.find('h2').get_text(strip=True)\n",
    "        self.bajada=sopa.find('p',{'class':'intro'}).get_text(strip=True)\n",
    "        self.cuerpo=sopa.find('div',{'id':'cuerpo'}).get_text(strip=True)\n",
    "        self.url=url\n",
    "    def __main__():\n",
    "        print('hola')"
   ]
  },
  {
   "cell_type": "code",
   "execution_count": 93,
   "metadata": {},
   "outputs": [],
   "source": [
    "a=p12()\n",
    "a.get(urls[200])"
   ]
  },
  {
   "cell_type": "code",
   "execution_count": 94,
   "metadata": {},
   "outputs": [
    {
     "data": {
      "text/plain": [
       "'https://www.pagina12.com.ar/diario/economia/2-138108-2010-01-06.html'"
      ]
     },
     "execution_count": 94,
     "metadata": {},
     "output_type": "execute_result"
    }
   ],
   "source": [
    "a.url"
   ]
  },
  {
   "cell_type": "code",
   "execution_count": 96,
   "metadata": {
    "scrolled": true
   },
   "outputs": [
    {
     "data": {
      "text/plain": [
       "'La Mesa de Enlace decidió postergar por una semana una decisión sobre próximas medidas de fuerza. El argumento que ofrecieron los cuatro dirigentes patronales es que el tipo de acción se resolverá en una asamblea de productores trigueros, que se realizará el próximo 12 de enero en el Teatro Broadway. “Serán ellos los que tomarán la decisión”, indicó Carlos Garetto, titular de Coninagro. Los dirigentes también señalaron que invitarán al ministro de Agricultura, Julián Domínguez, “para que les diga a los 400 productores que asistirán al encuentro cuáles son las medidas del Gobierno para el sector”. De esta manera, la Mesa de Enlace se quitó de encima la presión de declarar un nuevo lockout en un contexto de duras internas entre las entidades.“Los productores trigueros le expresarán al Gobierno sus problemáticas. Hasta el momento se han tomado soluciones parciales, pero el productor triguero es uno solo”, señaló Mario Llambías, presidente de CRA, al término de la reunión. El dirigente mencionó de manera elíptica el acuerdo firmado en Entre Ríos la semana pasada por los productores y el Gobierno, uno de los hechos que fue eje de la reunión de ayer y que generó duras internas entre las entidades.Desde la Federación Agraria reconocen que el acuerdo que firmó Domínguez con los trigueros entrerrianos fue “la primera victoria del Gobierno ante el campo”. Incluso, según indicó a Página/12 un importante dirigente de FAA, la entidad que conduce Eduardo Buzzi estaba dispuesta a “cortarse sola para mantener un encuentro con Domínguez” y comenzar a encontrar soluciones para los productores.De hecho, la Federación Agraria organizó anteayer una asamblea en Villa Constitución con productores trigueros, en donde los dirigentes federados mantuvieron algunas conversaciones telefónicas con el ministro de Agricultura. “En dos años no se fundió ningún productor de CRA ni la Sociedad Rural, pero sí de la Federación Agraria. Nosotros estamos dispuestos a negociar”, explicó a este diario un alto dirigente federado. A pesar de esta postura más conciliadora, semanas atrás el propio Buzzi había propuesto la toma de un puerto o un molino para protestar en contra de la política oficial.Frente a la posibilidad de que queden en evidencia las diferencias en el frente agropecuario, los dirigentes de CRA, Sociedad Rural y Coninagro decidieron postergar la protesta y convocar a una asamblea en Capital Federal, a la cual invitarán a Domínguez. “Si el Gobierno no concurre, deberá asumir las consecuencias de sus actos”, desafió el titular de la Sociedad Rural, Hugo Biolcati. Los dirigentes esperan convocar aproximadamente 400 productores trigueros, quienes expondrán sus reclamos ante los ruralistas y el Gobierno, en caso de que asista al convite. “Queremos un organismo de control (estatal) virtuoso, que sea manejado por los propios productores, necesitamos financiamiento y que se empiece a cumplir la eliminación de las retenciones en el trigo, tal como se anunció meses atrás. Con todo esto, tendremos alguna perspectiva para volver a sembrar en abril”, afirmó Buzzi.Un día antes de la reunión de la Mesa de Enlace, el Ministerio de Agricultura le envió una carta a Garetto para responder algunas de las últimas acusaciones del ruralista, quien había señalado que “la molinería está haciendo un descuento impresionante de fletes, a través de transportes fantasmas, lo que repercute en el precio que reciben los productores”. En esa carta, Andrea García, secretaria de Relaciones Institucionales del ministerio, le reclamó a Garetto pruebas de sus dichos. En este contexto, el titular de Coninagro manifestó que en la asamblea de la próxima semana “Domínguez recibirá todas las pruebas de los productores”.El encuentro de ayer tenía por objetivo convocar a un nuevo lo-ckout patronal. Sin embargo, la Mesa de Enlace no tuvo margen para convocarlo, ya sea por sus internas o por la falta de apoyo de algunos sectores. Los que más presionaron para declararlo fueron los dirigentes de Carbap, quienes en el mismo día de la reunión hicieron circular una carta solicitando medidas de fuerza contundentes. “Si la Mesa de Enlace entiende que en este estado de situación no es imperioso manifestarse taxativamente en defensa de la producción nacional, acataremos lo resuelto, sin perjuicio de continuar defendiendo los legítimos reclamos emanados de nuestras rurales afiliadas de Buenos Aires y La Pampa”, afirmó la entidad que conduce Pedro Apaolaza.Por otro lado, productores de San Pedro y San Nicolás marcharán a la sede de la AFIP de esta última ciudad para intentar pagar sus deudas con trigo. “Los productores trigueros van a pagar sus deudas, sus vencimientos y sus impuestos con granos de trigo. Es inaceptable que se sigan cerrando las exportaciones, manipulando los mercados e interviniendo torpemente en la economía”, concluyó el diputado de Unión PRO, Jorge Srodek.'"
      ]
     },
     "execution_count": 96,
     "metadata": {},
     "output_type": "execute_result"
    }
   ],
   "source": [
    "a.cuerpo"
   ]
  },
  {
   "cell_type": "code",
   "execution_count": null,
   "metadata": {},
   "outputs": [],
   "source": [
    "data=[]\n",
    "for x in urls:\n",
    "    nota=p12()\n",
    "    nota.get(x)\n",
    "    data.append([])"
   ]
  }
 ],
 "metadata": {
  "kernelspec": {
   "display_name": "Python 3",
   "language": "python",
   "name": "python3"
  },
  "language_info": {
   "codemirror_mode": {
    "name": "ipython",
    "version": 3
   },
   "file_extension": ".py",
   "mimetype": "text/x-python",
   "name": "python",
   "nbconvert_exporter": "python",
   "pygments_lexer": "ipython3",
   "version": "3.7.4"
  }
 },
 "nbformat": 4,
 "nbformat_minor": 4
}
