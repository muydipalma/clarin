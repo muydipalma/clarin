{
 "cells": [
  {
   "cell_type": "code",
   "execution_count": 33,
   "metadata": {},
   "outputs": [],
   "source": [
    "import requests as r\n",
    "from bs4 import BeautifulSoup as bs\n",
    "import urllib\n",
    "import json\n",
    "import time\n",
    "import sqlite3 as sql\n",
    "import pandas as pd\n",
    "import unicodedata\n",
    "from tqdm import tqdm\n"
   ]
  },
  {
   "cell_type": "code",
   "execution_count": 3,
   "metadata": {},
   "outputs": [],
   "source": [
    "uri='https://www.pagina12.com.ar'"
   ]
  },
  {
   "cell_type": "markdown",
   "metadata": {},
   "source": [
    "url_i='https://www.pagina12.com.ar/diario/secciones/index-2010-10-01.html'\n",
    "\n",
    "url_f='https://www.pagina12.com.ar/diario/secciones/index-2016-11-14.html'"
   ]
  },
  {
   "cell_type": "code",
   "execution_count": 8,
   "metadata": {},
   "outputs": [],
   "source": [
    "url1='https://www.pagina12.com.ar/diario/secciones/index-2010-10-01.html'\n",
    "url2='https://www.pagina12.com.ar/diario/secciones/index-2016-11-14.html'"
   ]
  },
  {
   "cell_type": "code",
   "execution_count": 21,
   "metadata": {},
   "outputs": [],
   "source": [
    "req=r.get(url2)\n",
    "sopa=bs(req.content)"
   ]
  },
  {
   "cell_type": "code",
   "execution_count": 14,
   "metadata": {
    "scrolled": true
   },
   "outputs": [
    {
     "data": {
      "text/plain": [
       "<li>\n",
       "<p class=\"volanta\">TODO EL ARCO OPOSITOR Y LOS MOVIMIENTOS SOCIALES Y DE DERECHOS HUMANOS EN APOYO A CORREA</p> <h2><a href=\"/diario/elpais/1-154159-2010-10-01.html\">Rechazo unánime a la intentona golpista</a></h2>\n",
       "</li>"
      ]
     },
     "execution_count": 14,
     "metadata": {},
     "output_type": "execute_result"
    }
   ],
   "source": [
    "sopa.find('div',{'class':\"columna476 left12\"}).find_all('li')[0]"
   ]
  },
  {
   "cell_type": "code",
   "execution_count": 23,
   "metadata": {},
   "outputs": [],
   "source": [
    "urls=[]\n",
    "for x in sopa.find('div',{'class':\"columna476 left12\"}).find_all('li'):\n",
    "    urls.append(uri+x.find('a').get('href'))"
   ]
  },
  {
   "cell_type": "code",
   "execution_count": 25,
   "metadata": {
    "scrolled": false
   },
   "outputs": [
    {
     "name": "stdout",
     "output_type": "stream",
     "text": [
      "https://www.pagina12.com.ar/diario/elpais/1-314131-2016-11-14.html\n",
      "https://www.pagina12.com.ar/diario/elpais/1-314132-2016-11-14.html\n",
      "https://www.pagina12.com.ar/diario/elpais/1-314133-2016-11-14.html\n",
      "https://www.pagina12.com.ar/diario/elpais/1-314141-2016-11-14.html\n",
      "https://www.pagina12.com.ar/diario/elpais/1-314142-2016-11-14.html\n",
      "https://www.pagina12.com.ar/diario/elpais/1-314143-2016-11-14.html\n",
      "https://www.pagina12.com.ar/diario/elpais/1-314150-2016-11-14.html\n",
      "https://www.pagina12.com.ar/diario/elpais/1-314151-2016-11-14.html\n",
      "https://www.pagina12.com.ar/diario/elpais/1-314134-2016-11-14.html\n",
      "https://www.pagina12.com.ar/diario/elpais/1-314135-2016-11-14.html\n",
      "https://www.pagina12.com.ar/diario/elpais/1-314136-2016-11-14.html\n",
      "https://www.pagina12.com.ar/diario/elpais/1-314137-2016-11-14.html\n",
      "https://www.pagina12.com.ar/diario/elpais/1-314152-2016-11-14.html\n",
      "https://www.pagina12.com.ar/diario/elpais/1-314153-2016-11-14.html\n",
      "https://www.pagina12.com.ar/diario/elpais/1-314154-2016-11-14.html\n",
      "https://www.pagina12.com.ar/diario/economia/2-314138-2016-11-14.html\n",
      "https://www.pagina12.com.ar/diario/economia/2-314144-2016-11-14.html\n",
      "https://www.pagina12.com.ar/diario/economia/2-314145-2016-11-14.html\n",
      "https://www.pagina12.com.ar/diario/economia/2-314146-2016-11-14.html\n",
      "https://www.pagina12.com.ar/diario/sociedad/3-314147-2016-11-14.html\n",
      "https://www.pagina12.com.ar/diario/sociedad/3-314155-2016-11-14.html\n",
      "https://www.pagina12.com.ar/diario/sociedad/3-314156-2016-11-14.html\n",
      "https://www.pagina12.com.ar/diario/sociedad/3-314157-2016-11-14.html\n",
      "https://www.pagina12.com.ar/diario/sociedad/3-314148-2016-11-14.html\n",
      "https://www.pagina12.com.ar/diario/sociedad/3-314149-2016-11-14.html\n",
      "https://www.pagina12.com.ar/diario/laventana/26-313770-2016-11-14.html\n",
      "https://www.pagina12.com.ar/diario/laventana/26-313771-2016-11-14.html\n",
      "https://www.pagina12.com.ar/diario/suplementos/espectaculos/4-40554-2016-11-14.html\n",
      "https://www.pagina12.com.ar/diario/suplementos/espectaculos/23-40560-2016-11-14.html\n",
      "https://www.pagina12.com.ar/diario/suplementos/espectaculos/23-40561-2016-11-14.html\n",
      "https://www.pagina12.com.ar/diario/suplementos/espectaculos/23-40558-2016-11-14.html\n",
      "https://www.pagina12.com.ar/diario/suplementos/espectaculos/23-40559-2016-11-14.html\n",
      "https://www.pagina12.com.ar/diario/suplementos/espectaculos/3-40562-2016-11-14.html\n",
      "https://www.pagina12.com.ar/diario/suplementos/espectaculos/3-40563-2016-11-14.html\n",
      "https://www.pagina12.com.ar/diario/suplementos/espectaculos/3-40564-2016-11-14.html\n",
      "https://www.pagina12.com.ar/diario/suplementos/espectaculos/2-40555-2016-11-14.html\n",
      "https://www.pagina12.com.ar/diario/suplementos/espectaculos/2-40556-2016-11-14.html\n",
      "https://www.pagina12.com.ar/diario/suplementos/espectaculos/2-40557-2016-11-14.html\n",
      "https://www.pagina12.com.ar/diario/suplementos/espectaculos/15-40553-2016-11-14.html\n",
      "https://www.pagina12.com.ar/diario/elmundo/4-314130-2016-11-14.html\n",
      "https://www.pagina12.com.ar/diario/elmundo/4-314139-2016-11-14.html\n",
      "https://www.pagina12.com.ar/diario/elmundo/4-314140-2016-11-14.html\n",
      "https://www.pagina12.com.ar/diario/elmundo/4-314158-2016-11-14.html\n",
      "https://www.pagina12.com.ar/diario/elmundo/4-314159-2016-11-14.html\n",
      "https://www.pagina12.com.ar/diario/elmundo/4-314160-2016-11-14.html\n",
      "https://www.pagina12.com.ar/diario/elmundo/4-314161-2016-11-14.html\n",
      "https://www.pagina12.com.ar/diario/psicologia/9-313872-2016-11-14.html\n",
      "https://www.pagina12.com.ar/diario/psicologia/9-313873-2016-11-14.html\n",
      "https://www.pagina12.com.ar/diario/psicologia/9-313874-2016-11-14.html\n",
      "https://www.pagina12.com.ar/diario/universidad/10-313961-2016-11-14.html\n",
      "https://www.pagina12.com.ar/diario/universidad/10-313962-2016-11-14.html\n",
      "https://www.pagina12.com.ar/diario/universidad/10-313963-2016-11-14.html\n",
      "https://www.pagina12.com.ar/diario/universidad/10-313688-2016-11-14.html\n",
      "https://www.pagina12.com.ar/diario/universidad/10-313683-2016-11-14.html\n",
      "https://www.pagina12.com.ar/diario/universidad/10-313684-2016-11-14.html\n",
      "https://www.pagina12.com.ar/diario/universidad/10-313685-2016-11-14.html\n",
      "https://www.pagina12.com.ar/diario/universidad/10-313686-2016-11-14.html\n",
      "https://www.pagina12.com.ar/diario/universidad/10-313687-2016-11-14.html\n",
      "https://www.pagina12.com.ar/diario/contratapa/13-314163-2016-11-14.html\n",
      "https://www.pagina12.com.ar/diario/pirulo/30-314162-2016-11-14.html\n"
     ]
    }
   ],
   "source": [
    "urls=[]\n",
    "for x in sopa.find('div',{'class':\"columna476 left12\"}).find_all('li'):\n",
    "    print(uri+x.find('a').get('href'))"
   ]
  },
  {
   "cell_type": "code",
   "execution_count": 57,
   "metadata": {},
   "outputs": [
    {
     "name": "stdout",
     "output_type": "stream",
     "text": [
      "0\n",
      "1\n",
      "2\n",
      "3\n",
      "4\n",
      "5\n",
      "6\n",
      "7\n",
      "8\n",
      "9\n",
      "10\n",
      "11\n",
      "12\n"
     ]
    }
   ],
   "source": [
    "for x in range(13):\n",
    "    print(x)"
   ]
  },
  {
   "cell_type": "code",
   "execution_count": 44,
   "metadata": {},
   "outputs": [],
   "source": [
    "urls=[]\n",
    "for y in range(13):\n",
    "    for x in range(32):\n",
    "        try:\n",
    "            url='https://www.pagina12.com.ar/diario/secciones/index-2012-'+str(y)+'-'+str(x)+'.html'\n",
    "            req=r.get(url)\n",
    "            sopa=bs(req.content)\n",
    "            for x in sopa.find('div',{'class':\"columna476 left12\"}).find_all('li'):\n",
    "                urls.append(uri+x.find('a').get('href'))\n",
    "        except:\n",
    "            pass\n",
    "        time.sleep(0.5)\n",
    "    time.sleep(1)   "
   ]
  },
  {
   "cell_type": "code",
   "execution_count": 38,
   "metadata": {
    "scrolled": true
   },
   "outputs": [
    {
     "data": {
      "text/plain": [
       "26775"
      ]
     },
     "execution_count": 38,
     "metadata": {},
     "output_type": "execute_result"
    }
   ],
   "source": [
    "len(urls)"
   ]
  },
  {
   "cell_type": "code",
   "execution_count": 39,
   "metadata": {},
   "outputs": [],
   "source": [
    "p12_2011=pd.DataFrame(urls,columns=['urls'])"
   ]
  },
  {
   "cell_type": "code",
   "execution_count": 40,
   "metadata": {},
   "outputs": [],
   "source": [
    "p12_2011.to_csv('p12_2011.csv')"
   ]
  },
  {
   "cell_type": "code",
   "execution_count": 41,
   "metadata": {},
   "outputs": [
    {
     "name": "stdout",
     "output_type": "stream",
     "text": [
      "https://www.pagina12.com.ar/diario/cdigital/31-159424-2011-01-01.html\n"
     ]
    }
   ],
   "source": [
    "print(urls[0])"
   ]
  },
  {
   "cell_type": "code",
   "execution_count": 42,
   "metadata": {},
   "outputs": [
    {
     "name": "stdout",
     "output_type": "stream",
     "text": [
      "https://www.pagina12.com.ar/diario/pirulo/30-184543-2011-12-31.html\n"
     ]
    }
   ],
   "source": [
    "print(urls[-1])"
   ]
  },
  {
   "cell_type": "code",
   "execution_count": 43,
   "metadata": {},
   "outputs": [],
   "source": [
    "df=pd.read_csv('p12_2011.csv')\n",
    "\n",
    "class p12():\n",
    "    \n",
    "    def __init__(self):\n",
    "        self.url='https://www.pagina12.com.ar'\n",
    "    \n",
    "    def get(self,url):\n",
    "        nota=r.get(url)\n",
    "        sopa=bs(nota.content,features=\"lxml\")\n",
    "        self.volanta=unicodedata.normalize(\"NFKD\",sopa.find('p',{'class':'volanta'}).get_text(strip=True))\n",
    "        self.titulo=unicodedata.normalize(\"NFKD\",sopa.find('h2').get_text(strip=True))\n",
    "        self.bajada=unicodedata.normalize(\"NFKD\",sopa.find('p',{'class':'intro'}).get_text(strip=True))\n",
    "        self.cuerpo=unicodedata.normalize(\"NFKD\",sopa.find('div',{'id':'cuerpo'}).get_text(strip=True))\n",
    "        self.url=url\n"
   ]
  },
  {
   "cell_type": "code",
   "execution_count": 36,
   "metadata": {},
   "outputs": [
    {
     "name": "stderr",
     "output_type": "stream",
     "text": [
      "100%|██████████████████████████████████████████████████████████████████████████████████| 20/20 [00:10<00:00,  1.89it/s]\n"
     ]
    }
   ],
   "source": [
    "data=[]\n",
    "for i,x in enumerate(tqdm(df.urls[:20])):\n",
    "    nota=p12()\n",
    "    try:\n",
    "        nota.get(x)\n",
    "        data.append([nota.volanta,nota.titulo,nota.bajada,nota.cuerpo,nota.url])\n",
    "    except:\n",
    "        pass\n",
    "    time.sleep(0.2)"
   ]
  },
  {
   "cell_type": "code",
   "execution_count": 32,
   "metadata": {},
   "outputs": [
    {
     "data": {
      "text/plain": [
       "['SOCIEDAD› LAS LLUVIAS EN ANGRA DOS REIS SON AMENAZADORAS',\n",
       " 'Alertas por nuevos deslizamientos',\n",
       " '',\n",
       " 'La posibilidad de nuevos derrumbes y deslizamientos de tierra mantienen alerta a los 35 mil habitantes del municipio de Angra dos Reis, al sur de Río de Janeiro, Brasil. El viernes fue el día más crítico cuando un alud de tierra arrastró la vegetación nativa y destrozó casas y hoteles provocando la muerte 41 personas, entre locales y turistas. Según el alcalde de Angra dos Reis, todavía miles de personas que viven en las laderas de los morros están en peligro por nuevos derrumbes. Además, en todo el estado de Río de Janeiro se registra, desde el miércoles, un total de 65 fallecidos y más de 4.000 personas evacuadas.“Este será un verano de alto índice pluviométrico. A la población de Angra dos Reis, esté alerta, por favor, ante cualquier señal de lluvia”, advirtió ayer el alcalde Tuca Jordao, en conferencia de prensa. “No se puede bromear con el suelo. Con la naturaleza no se bromea. Nuestro problema es la lluvia y no se pueden ocupar los morros de esa manera”, resaltó Jordao antes de adelantar que unas 400 casas en todo el municipio podrían ser demolidas o prohibidas de habitar, ya que se encuentran en áreas de riesgo.La playa de Bananal, en Ilha Grande, fue el área más afectada por las lluvias cuando en la madrugada del viernes la ladera de uno de los cerros se desprendió completamente, dejando veintiocho muertos y seis heridos. El alud de tierra, piedras y vegetación nativa cayó sobre parte de la posada de lujo Sankay –donde habría unas 40 personas– y también sobre varias casas alquiladas por turistas para las celebraciones de Año Nuevo. Los trabajos de los 200 efectivos del cuerpo de Bomberos y de la Defensa Civil, ayudados por perros socorristas, fueron retomados en la mañana de ayer, en un operativo que puede llevar varios días más, aunque las posibilidades de rescatar personas con vida van disminuyendo.El alcalde solicitó como medida de prevención que las centrales nucleares Angra I y II dejen de funcionar. “No hay problemas operacionales en las usinas, pero si siguen deslizándose laderas necesitaremos cerrarlas”, explicó Jordao. Es que la ruta entre el puerto paulista de Santos y Río de Janeiro está parcialmente bloqueada ante el riesgo de derrumbe sobre la pista y en caso de emergencia no habría cómo evacuar las usinas.Mientras, la localidad de Vila Velha, barrio de la ciudad de Angra, está aislada desde hace tres días, sin agua ni electricidad, informó la Agencia Brasil. La carretera que comunica con el centro está cortada por los derrumbes de tierra, y la única forma de traslado es en barco.',\n",
       " 'https://www.pagina12.com.ar/diario/sociedad/3-137990-2010-01-04.html']"
      ]
     },
     "execution_count": 32,
     "metadata": {},
     "output_type": "execute_result"
    }
   ],
   "source": [
    "data[-1]"
   ]
  },
  {
   "cell_type": "code",
   "execution_count": 140,
   "metadata": {},
   "outputs": [],
   "source": [
    "dff=pd.read_csv('p12_2010f.csv')\n"
   ]
  },
  {
   "cell_type": "code",
   "execution_count": 147,
   "metadata": {},
   "outputs": [
    {
     "name": "stdout",
     "output_type": "stream",
     "text": [
      "https://www.pagina12.com.ar/diario/laventana/26-137804-2010-01-01.html\n",
      "https://www.pagina12.com.ar/diario/suplementos/espectaculos/3-16715-2010-01-22.html\n",
      "https://www.pagina12.com.ar/diario/elpais/1-139882-2010-02-09.html\n",
      "https://www.pagina12.com.ar/diario/laventana/26-140890-2010-02-24.html\n",
      "https://www.pagina12.com.ar/diario/deportes/8-141816-2010-03-12.html\n",
      "https://www.pagina12.com.ar/diario/suplementos/espectaculos/10-17402-2010-03-27.html\n",
      "https://www.pagina12.com.ar/diario/economia/2-143637-2010-04-10.html\n",
      "https://www.pagina12.com.ar/diario/sociedad/3-144542-2010-04-25.html\n",
      "https://www.pagina12.com.ar/diario/economia/2-145472-2010-05-11.html\n",
      "https://www.pagina12.com.ar/diario/ciencia/19-146341-2010-05-26.html\n",
      "https://www.pagina12.com.ar/diario/universidad/10-146968-2010-06-10.html\n",
      "https://www.pagina12.com.ar/diario/elmundo/4-148238-2010-06-25.html\n",
      "https://www.pagina12.com.ar/diario/elpais/1-149221-2010-07-10.html\n",
      "https://www.pagina12.com.ar/diario/suplementos/espectaculos/9-18708-2010-07-24.html\n",
      "https://www.pagina12.com.ar/diario/elpais/1-150950-2010-08-08.html\n",
      "https://www.pagina12.com.ar/diario/deportes/8-151800-2010-08-22.html\n",
      "https://www.pagina12.com.ar/diario/elmundo/4-152700-2010-09-07.html\n",
      "https://www.pagina12.com.ar/diario/elpais/1-153737-2010-09-24.html\n",
      "https://www.pagina12.com.ar/diario/cdigital/31-154325-2010-10-08.html\n",
      "https://www.pagina12.com.ar/diario/suplementos/espectaculos/2-19670-2010-10-21.html\n",
      "https://www.pagina12.com.ar/diario/contratapa/13-156290-2010-11-05.html\n",
      "https://www.pagina12.com.ar/diario/suplementos/espectaculos/17-19986-2010-11-20.html\n",
      "https://www.pagina12.com.ar/diario/universidad/10-157768-2010-12-04.html\n",
      "https://www.pagina12.com.ar/diario/deportes/8-158920-2010-12-19.html\n"
     ]
    }
   ],
   "source": [
    "for x in dff.url.values[::1000]:\n",
    "    print(x)"
   ]
  },
  {
   "cell_type": "code",
   "execution_count": 148,
   "metadata": {},
   "outputs": [],
   "source": [
    "urls2=dff.url.apply( lambda x: '-'.join([x.split('/')[-1].split('-')[3],x.split('/')[-1].split('-')[4].split('.')[0]]))"
   ]
  },
  {
   "cell_type": "code",
   "execution_count": 149,
   "metadata": {},
   "outputs": [
    {
     "data": {
      "text/plain": [
       "10-22    102\n",
       "06-11    102\n",
       "09-24     97\n",
       "07-02     97\n",
       "04-23     96\n",
       "        ... \n",
       "01-18     32\n",
       "01-25     29\n",
       "05-01     13\n",
       "12-25     12\n",
       "01-01      4\n",
       "Name: url, Length: 365, dtype: int64"
      ]
     },
     "execution_count": 149,
     "metadata": {},
     "output_type": "execute_result"
    }
   ],
   "source": [
    "urls2.value_counts()"
   ]
  },
  {
   "cell_type": "code",
   "execution_count": 131,
   "metadata": {},
   "outputs": [
    {
     "data": {
      "text/plain": [
       "'12'"
      ]
     },
     "execution_count": 131,
     "metadata": {},
     "output_type": "execute_result"
    }
   ],
   "source": []
  },
  {
   "cell_type": "code",
   "execution_count": 123,
   "metadata": {},
   "outputs": [
    {
     "data": {
      "text/plain": [
       "['espectaculos']"
      ]
     },
     "execution_count": 123,
     "metadata": {},
     "output_type": "execute_result"
    }
   ],
   "source": [
    "l.split('/')[5].split('-')"
   ]
  },
  {
   "cell_type": "code",
   "execution_count": 107,
   "metadata": {},
   "outputs": [
    {
     "data": {
      "text/plain": [
       "False    23758\n",
       "Name: url, dtype: int64"
      ]
     },
     "execution_count": 107,
     "metadata": {},
     "output_type": "execute_result"
    }
   ],
   "source": [
    "ola.value_counts()"
   ]
  }
 ],
 "metadata": {
  "kernelspec": {
   "display_name": "Python 3",
   "language": "python",
   "name": "python3"
  },
  "language_info": {
   "codemirror_mode": {
    "name": "ipython",
    "version": 3
   },
   "file_extension": ".py",
   "mimetype": "text/x-python",
   "name": "python",
   "nbconvert_exporter": "python",
   "pygments_lexer": "ipython3",
   "version": "3.7.4"
  }
 },
 "nbformat": 4,
 "nbformat_minor": 4
}
